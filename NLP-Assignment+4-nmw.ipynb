{
 "cells": [
  {
   "cell_type": "markdown",
   "metadata": {},
   "source": [
    "---\n",
    "\n",
    "_You are currently looking at **version 1.0** of this notebook. To download notebooks and datafiles, as well as get help on Jupyter notebooks in the Coursera platform, visit the [Jupyter Notebook FAQ](https://www.coursera.org/learn/python-text-mining/resources/d9pwm) course resource._\n",
    "\n",
    "---"
   ]
  },
  {
   "cell_type": "markdown",
   "metadata": {},
   "source": [
    "# Assignment 4 - Document Similarity & Topic Modelling"
   ]
  },
  {
   "cell_type": "markdown",
   "metadata": {},
   "source": [
    "## Part 1 - Document Similarity\n",
    "\n",
    "For the first part of this assignment, you will complete the functions `doc_to_synsets` and `similarity_score` which will be used by `document_path_similarity` to find the path similarity between two documents.\n",
    "\n",
    "The following functions are provided:\n",
    "* **`convert_tag:`** converts the tag given by `nltk.pos_tag` to a tag used by `wordnet.synsets`. You will need to use this function in `doc_to_synsets`.\n",
    "* **`document_path_similarity:`** computes the symmetrical path similarity between two documents by finding the synsets in each document using `doc_to_synsets`, then computing similarities using `similarity_score`.\n",
    "\n",
    "You will need to finish writing the following functions:\n",
    "* **`doc_to_synsets:`** returns a list of synsets in document. This function should first tokenize and part of speech tag the document using `nltk.word_tokenize` and `nltk.pos_tag`. Then it should find each tokens corresponding synset using `wn.synsets(token, wordnet_tag)`. The first synset match should be used. If there is no match, that token is skipped.\n",
    "* **`similarity_score:`** returns the normalized similarity score of a list of synsets (s1) onto a second list of synsets (s2). For each synset in s1, find the synset in s2 with the largest similarity value. Sum all of the largest similarity values together and normalize this value by dividing it by the number of largest similarity values found. Be careful with data types, which should be floats. Missing values should be ignored.\n",
    "\n",
    "Once `doc_to_synsets` and `similarity_score` have been completed, submit to the autograder which will run `test_document_path_similarity` to test that these functions are running correctly. \n",
    "\n",
    "*Do not modify the functions `convert_tag`, `document_path_similarity`, and `test_document_path_similarity`.*"
   ]
  },
  {
   "cell_type": "code",
   "execution_count": 1,
   "metadata": {},
   "outputs": [
    {
     "name": "stdout",
     "output_type": "stream",
     "text": [
      "[nltk_data] Downloading package punkt to\n",
      "[nltk_data]     /Users/nouriwerdi/nltk_data...\n",
      "[nltk_data]   Package punkt is already up-to-date!\n",
      "[nltk_data] Downloading package averaged_perceptron_tagger to\n",
      "[nltk_data]     /Users/nouriwerdi/nltk_data...\n",
      "[nltk_data]   Package averaged_perceptron_tagger is already up-to-\n",
      "[nltk_data]       date!\n",
      "[nltk_data] Downloading package wordnet to\n",
      "[nltk_data]     /Users/nouriwerdi/nltk_data...\n",
      "[nltk_data]   Package wordnet is already up-to-date!\n",
      "[Synset('iodine.n.01'), Synset('make.v.01'), Synset('wish.v.02'), Synset('green.s.01'), Synset('egg.n.02'), Synset('ham.n.01')]\n",
      "[Synset('bacon.n.01'), Synset('egg.n.02'), Synset('angstrom.n.01'), Synset('dose.n.01'), Synset('iodine.n.01')]\n",
      "0.5202380952380953\n",
      "0.5116666666666667\n",
      "0.5159523809523809\n"
     ]
    }
   ],
   "source": [
    "import numpy as np\n",
    "import nltk\n",
    "from nltk.corpus import wordnet as wn\n",
    "import pandas as pd\n",
    "\n",
    "nltk.download('punkt')\n",
    "nltk.download('averaged_perceptron_tagger')\n",
    "nltk.download('wordnet')\n",
    "\n",
    "def convert_tag(tag):\n",
    "    \"\"\"Convert the tag given by nltk.pos_tag to the tag used by wordnet.synsets\"\"\"\n",
    "    \n",
    "    tag_dict = {'N': 'n', 'J': 'a', 'R': 'r', 'V': 'v'}\n",
    "    try:\n",
    "        return tag_dict[tag[0]]\n",
    "    except KeyError:\n",
    "        return None\n",
    "\n",
    "\n",
    "def doc_to_synsets(doc):\n",
    "    \"\"\"\n",
    "    Returns a list of synsets in document.\n",
    "\n",
    "    Tokenizes and tags the words in the document doc.\n",
    "    Then finds the first synset for each word/tag combination.\n",
    "    If a synset is not found for that combination it is skipped.\n",
    "\n",
    "    Args:\n",
    "        doc: string to be converted\n",
    "\n",
    "    Returns:\n",
    "        list of synsets\n",
    "\n",
    "    Example:\n",
    "        doc_to_synsets('Fish are nvqjp friends.')\n",
    "        Out: [Synset('fish.n.01'), Synset('be.v.01'), Synset('friend.n.01')]\n",
    "    \"\"\"\n",
    "    \n",
    "\n",
    "    # Your Code Here\n",
    "    tokens = nltk.word_tokenize(doc)\n",
    "    tagged = nltk.pos_tag(tokens)\n",
    "    #print(tagged)\n",
    "\n",
    "    syn_sets = []\n",
    "    for token in tagged:\n",
    "        #print(syn_sets)\n",
    "        wn_tag = convert_tag(token[1])\n",
    "        \n",
    "        #print(token)\n",
    "        #print(wn_tag)\n",
    "                \n",
    "        synsets = wn.synsets(token[0], pos=wn_tag)\n",
    "        #print(synsets)\n",
    "        if synsets:\n",
    "            syn_sets.append(synsets[0])\n",
    "        #syn_sets = [wn.synsets(token) for token in tagged]\n",
    "\n",
    "    return syn_sets # Your Answer Here\n",
    "\n",
    "\n",
    "def similarity_score(s1, s2):\n",
    "    \"\"\"\n",
    "    Calculate the normalized similarity score of s1 onto s2\n",
    "\n",
    "    For each synset in s1, finds the synset in s2 with the largest similarity value.\n",
    "    Sum of all of the largest similarity values and normalize this value by dividing it by the\n",
    "    number of largest similarity values found.\n",
    "\n",
    "    Args:\n",
    "        s1, s2: list of synsets from doc_to_synsets\n",
    "\n",
    "    Returns:\n",
    "        normalized similarity score of s1 onto s2\n",
    "\n",
    "    Example:\n",
    "        synsets1 = doc_to_synsets('I like cats')\n",
    "        synsets2 = doc_to_synsets('I like dogs')\n",
    "        similarity_score(synsets1, synsets2)\n",
    "        Out: 0.73333333333333339\n",
    "    \"\"\"\n",
    "    \n",
    "    \n",
    "    # Your Code Here\n",
    "    ssum = 0\n",
    "    sscount = 0\n",
    "    for sa in s1:\n",
    "        largest = 0\n",
    "        for sb in s2:\n",
    "            p = sa.path_similarity(sb)\n",
    "            if p is not None:\n",
    "                if p > largest:\n",
    "                    largest = p\n",
    "        if largest > 0:\n",
    "            ssum = ssum + largest\n",
    "            sscount = sscount +1\n",
    "                    \n",
    "    return (ssum/sscount) # Your Answer Here\n",
    "\n",
    "\n",
    "def document_path_similarity(doc1, doc2):\n",
    "    \"\"\"Finds the symmetrical similarity between doc1 and doc2\"\"\"\n",
    "\n",
    "    synsets1 = doc_to_synsets(doc1)\n",
    "    synsets2 = doc_to_synsets(doc2)\n",
    "\n",
    "    return (similarity_score(synsets1, synsets2) + similarity_score(synsets2, synsets1)) / 2\n",
    "\n",
    "#doc1=\"I don't like green eggs and ham\"\n",
    "#doc2=\"Bacon and eggs with a dose of Iodine\"\n",
    "#synsets1 = doc_to_synsets(doc1)\n",
    "#synsets2 = doc_to_synsets(doc2)\n",
    "#print(synsets1)\n",
    "#print(synsets2)\n",
    "#print(similarity_score(synsets1, synsets2))\n",
    "#print(similarity_score(synsets2, synsets1))\n",
    "#print(document_path_similarity(doc1, doc2))"
   ]
  },
  {
   "cell_type": "markdown",
   "metadata": {},
   "source": [
    "### test_document_path_similarity\n",
    "\n",
    "Use this function to check if doc_to_synsets and similarity_score are correct.\n",
    "\n",
    "*This function should return the similarity score as a float.*"
   ]
  },
  {
   "cell_type": "code",
   "execution_count": 2,
   "metadata": {},
   "outputs": [],
   "source": [
    "def test_document_path_similarity():\n",
    "    doc1 = 'This is a function to test document_path_similarity.'\n",
    "    doc2 = 'Use this function to see if your code in doc_to_synsets \\\n",
    "    and similarity_score is correct!'\n",
    "    return document_path_similarity(doc1, doc2)"
   ]
  },
  {
   "cell_type": "markdown",
   "metadata": {},
   "source": [
    "<br>\n",
    "___\n",
    "`paraphrases` is a DataFrame which contains the following columns: `Quality`, `D1`, and `D2`.\n",
    "\n",
    "`Quality` is an indicator variable which indicates if the two documents `D1` and `D2` are paraphrases of one another (1 for paraphrase, 0 for not paraphrase)."
   ]
  },
  {
   "cell_type": "code",
   "execution_count": 3,
   "metadata": {},
   "outputs": [
    {
     "data": {
      "text/html": [
       "<div>\n",
       "<style scoped>\n",
       "    .dataframe tbody tr th:only-of-type {\n",
       "        vertical-align: middle;\n",
       "    }\n",
       "\n",
       "    .dataframe tbody tr th {\n",
       "        vertical-align: top;\n",
       "    }\n",
       "\n",
       "    .dataframe thead th {\n",
       "        text-align: right;\n",
       "    }\n",
       "</style>\n",
       "<table border=\"1\" class=\"dataframe\">\n",
       "  <thead>\n",
       "    <tr style=\"text-align: right;\">\n",
       "      <th></th>\n",
       "      <th>Quality</th>\n",
       "      <th>D1</th>\n",
       "      <th>D2</th>\n",
       "    </tr>\n",
       "  </thead>\n",
       "  <tbody>\n",
       "    <tr>\n",
       "      <th>0</th>\n",
       "      <td>1</td>\n",
       "      <td>Ms Stewart, the chief executive, was not expec...</td>\n",
       "      <td>Ms Stewart, 61, its chief executive officer an...</td>\n",
       "    </tr>\n",
       "    <tr>\n",
       "      <th>1</th>\n",
       "      <td>1</td>\n",
       "      <td>After more than two years' detention under the...</td>\n",
       "      <td>After more than two years in detention by the ...</td>\n",
       "    </tr>\n",
       "    <tr>\n",
       "      <th>2</th>\n",
       "      <td>1</td>\n",
       "      <td>\"It still remains to be seen whether the reven...</td>\n",
       "      <td>\"It remains to be seen whether the revenue rec...</td>\n",
       "    </tr>\n",
       "    <tr>\n",
       "      <th>3</th>\n",
       "      <td>0</td>\n",
       "      <td>And it's going to be a wild ride,\" said Allan ...</td>\n",
       "      <td>Now the rest is just mechanical,\" said Allan H...</td>\n",
       "    </tr>\n",
       "    <tr>\n",
       "      <th>4</th>\n",
       "      <td>1</td>\n",
       "      <td>The cards are issued by Mexico's consulates to...</td>\n",
       "      <td>The card is issued by Mexico's consulates to i...</td>\n",
       "    </tr>\n",
       "  </tbody>\n",
       "</table>\n",
       "</div>"
      ],
      "text/plain": [
       "   Quality                                                 D1  \\\n",
       "0        1  Ms Stewart, the chief executive, was not expec...   \n",
       "1        1  After more than two years' detention under the...   \n",
       "2        1  \"It still remains to be seen whether the reven...   \n",
       "3        0  And it's going to be a wild ride,\" said Allan ...   \n",
       "4        1  The cards are issued by Mexico's consulates to...   \n",
       "\n",
       "                                                  D2  \n",
       "0  Ms Stewart, 61, its chief executive officer an...  \n",
       "1  After more than two years in detention by the ...  \n",
       "2  \"It remains to be seen whether the revenue rec...  \n",
       "3  Now the rest is just mechanical,\" said Allan H...  \n",
       "4  The card is issued by Mexico's consulates to i...  "
      ]
     },
     "execution_count": 3,
     "metadata": {},
     "output_type": "execute_result"
    }
   ],
   "source": [
    "# Use this dataframe for questions most_similar_docs and label_accuracy\n",
    "paraphrases = pd.read_csv('paraphrases.csv')\n",
    "paraphrases.head()"
   ]
  },
  {
   "cell_type": "markdown",
   "metadata": {},
   "source": [
    "___\n",
    "\n",
    "### most_similar_docs\n",
    "\n",
    "Using `document_path_similarity`, find the pair of documents in paraphrases which has the maximum similarity score.\n",
    "\n",
    "*This function should return a tuple `(D1, D2, similarity_score)`*"
   ]
  },
  {
   "cell_type": "code",
   "execution_count": 4,
   "metadata": {},
   "outputs": [],
   "source": [
    "def most_similar_docs():\n",
    "    \n",
    "    # Your Code Here\n",
    "    similarity_max = 0\n",
    "    d1 = ''\n",
    "    d2 = ''\n",
    "    for index, row in paraphrases.iterrows():\n",
    "        similarity_score = document_path_similarity(row['D1'], row['D2'])\n",
    "        if similarity_score > similarity_max:\n",
    "            similarity_max = similarity_score\n",
    "            d1 = row['D1']\n",
    "            d2 = row['D2']\n",
    "        \n",
    "    return (d1, d2, similarity_max) # Your Answer Here\n",
    "\n",
    "#most_similar_docs()"
   ]
  },
  {
   "cell_type": "markdown",
   "metadata": {},
   "source": [
    "### label_accuracy\n",
    "\n",
    "Provide labels for the twenty pairs of documents by computing the similarity for each pair using `document_path_similarity`. Let the classifier rule be that if the score is greater than 0.75, label is paraphrase (1), else label is not paraphrase (0). Report accuracy of the classifier using scikit-learn's accuracy_score.\n",
    "\n",
    "*This function should return a float.*"
   ]
  },
  {
   "cell_type": "code",
   "execution_count": 5,
   "metadata": {},
   "outputs": [
    {
     "data": {
      "text/plain": [
       "0.8"
      ]
     },
     "execution_count": 5,
     "metadata": {},
     "output_type": "execute_result"
    }
   ],
   "source": [
    "def label_accuracy():\n",
    "    from sklearn.metrics import accuracy_score\n",
    "\n",
    "    # Your Code Here\n",
    "    #quality_score_list = [(q, {{calculate document_path_similarity}}) for _, (q, d1, d2) in paraphrases.iterrows()]\n",
    "    #y_true, y_pred = np.array(quality_score_list).T\n",
    "    #return {{calculate accuracy_score}}\n",
    "\n",
    "    quality_score_list = []\n",
    "    for index, row in paraphrases.iterrows():\n",
    "        similarity_score = document_path_similarity(row['D1'], row['D2'])\n",
    "        if similarity_score > 0.75:\n",
    "            quality_score_list.extend([1])\n",
    "        else:\n",
    "            quality_score_list.extend([0])\n",
    "            \n",
    "    y_true = np.array(paraphrases['Quality'])\n",
    "    return accuracy_score(y_true, quality_score_list) # Your Answer Here\n",
    "\n",
    "#label_accuracy()"
   ]
  },
  {
   "cell_type": "markdown",
   "metadata": {},
   "source": [
    "## Part 2 - Topic Modelling\n",
    "\n",
    "For the second part of this assignment, you will use Gensim's LDA (Latent Dirichlet Allocation) model to model topics in `newsgroup_data`. You will first need to finish the code in the cell below by using gensim.models.ldamodel.LdaModel constructor to estimate LDA model parameters on the corpus, and save to the variable `ldamodel`. Extract 10 topics using `corpus` and `id_map`, and with `passes=25` and `random_state=34`."
   ]
  },
  {
   "cell_type": "code",
   "execution_count": 6,
   "metadata": {},
   "outputs": [],
   "source": [
    "import pickle\n",
    "import gensim\n",
    "from sklearn.feature_extraction.text import CountVectorizer\n",
    "\n",
    "# Load the list of documents\n",
    "with open('newsgroups', 'rb') as f:\n",
    "    newsgroup_data = pickle.load(f)\n",
    "\n",
    "# Use CountVectorizor to find three letter tokens, remove stop_words, \n",
    "# remove tokens that don't appear in at least 20 documents,\n",
    "# remove tokens that appear in more than 20% of the documents\n",
    "vect = CountVectorizer(min_df=20, max_df=0.2, stop_words='english', \n",
    "                       token_pattern='(?u)\\\\b\\\\w\\\\w\\\\w+\\\\b')\n",
    "# Fit and transform\n",
    "X = vect.fit_transform(newsgroup_data)\n",
    "\n",
    "# Convert sparse matrix to gensim corpus.\n",
    "corpus = gensim.matutils.Sparse2Corpus(X, documents_columns=False)\n",
    "\n",
    "# Mapping from word IDs to words (To be used in LdaModel's id2word parameter)\n",
    "id_map = dict((v, k) for k, v in vect.vocabulary_.items())\n"
   ]
  },
  {
   "cell_type": "code",
   "execution_count": 8,
   "metadata": {},
   "outputs": [],
   "source": [
    "# Use the gensim.models.ldamodel.LdaModel constructor to estimate \n",
    "# LDA model parameters on the corpus, and save to the variable `ldamodel`\n",
    "\n",
    "# Your code here:  trying 2 passes instead of 25 for speed...\n",
    "ldamodel = gensim.models.ldamodel.LdaModel(corpus, num_topics = 10, id2word=id_map, passes = 2, random_state = 34)"
   ]
  },
  {
   "cell_type": "markdown",
   "metadata": {},
   "source": [
    "### lda_topics\n",
    "\n",
    "Using `ldamodel`, find a list of the 10 topics and the most significant 10 words in each topic. This should be structured as a list of 10 tuples where each tuple takes on the form:\n",
    "\n",
    "`(9, '0.068*\"space\" + 0.036*\"nasa\" + 0.021*\"science\" + 0.020*\"edu\" + 0.019*\"data\" + 0.017*\"shuttle\" + 0.015*\"launch\" + 0.015*\"available\" + 0.014*\"center\" + 0.014*\"sci\"')`\n",
    "\n",
    "for example.\n",
    "\n",
    "*This function should return a list of tuples.*"
   ]
  },
  {
   "cell_type": "code",
   "execution_count": 13,
   "metadata": {},
   "outputs": [
    {
     "data": {
      "text/plain": [
       "[(0,\n",
       "  '0.033*\"edu\" + 0.025*\"com\" + 0.012*\"don\" + 0.011*\"know\" + 0.011*\"just\" + 0.009*\"think\" + 0.009*\"mail\" + 0.009*\"time\" + 0.008*\"use\" + 0.008*\"does\"'),\n",
       " (1,\n",
       "  '0.019*\"just\" + 0.017*\"ground\" + 0.012*\"don\" + 0.012*\"think\" + 0.009*\"does\" + 0.008*\"current\" + 0.008*\"car\" + 0.007*\"time\" + 0.007*\"using\" + 0.006*\"use\"'),\n",
       " (2,\n",
       "  '0.043*\"drive\" + 0.026*\"disk\" + 0.020*\"drives\" + 0.019*\"hard\" + 0.014*\"controller\" + 0.011*\"floppy\" + 0.011*\"rom\" + 0.010*\"power\" + 0.009*\"card\" + 0.009*\"scsi\"'),\n",
       " (3,\n",
       "  '0.013*\"just\" + 0.012*\"time\" + 0.011*\"car\" + 0.010*\"don\" + 0.010*\"year\" + 0.009*\"team\" + 0.008*\"thanks\" + 0.008*\"play\" + 0.007*\"know\" + 0.007*\"got\"'),\n",
       " (4,\n",
       "  '0.015*\"year\" + 0.014*\"know\" + 0.013*\"don\" + 0.013*\"new\" + 0.013*\"just\" + 0.010*\"good\" + 0.009*\"time\" + 0.009*\"think\" + 0.007*\"years\" + 0.007*\"people\"'),\n",
       " (5,\n",
       "  '0.021*\"game\" + 0.011*\"year\" + 0.011*\"scsi\" + 0.009*\"center\" + 0.009*\"new\" + 0.009*\"team\" + 0.008*\"good\" + 0.007*\"games\" + 0.006*\"edu\" + 0.006*\"hockey\"'),\n",
       " (6,\n",
       "  '0.012*\"does\" + 0.011*\"use\" + 0.009*\"car\" + 0.008*\"data\" + 0.008*\"help\" + 0.008*\"information\" + 0.008*\"need\" + 0.007*\"new\" + 0.007*\"know\" + 0.007*\"time\"'),\n",
       " (7,\n",
       "  '0.018*\"don\" + 0.016*\"people\" + 0.015*\"just\" + 0.015*\"good\" + 0.011*\"think\" + 0.010*\"know\" + 0.008*\"does\" + 0.007*\"use\" + 0.007*\"really\" + 0.006*\"used\"'),\n",
       " (8,\n",
       "  '0.015*\"use\" + 0.009*\"does\" + 0.009*\"software\" + 0.009*\"don\" + 0.009*\"time\" + 0.007*\"did\" + 0.007*\"apple\" + 0.007*\"power\" + 0.007*\"good\" + 0.006*\"cable\"'),\n",
       " (9,\n",
       "  '0.030*\"space\" + 0.013*\"nasa\" + 0.011*\"science\" + 0.011*\"think\" + 0.009*\"don\" + 0.008*\"edu\" + 0.008*\"shuttle\" + 0.007*\"time\" + 0.007*\"does\" + 0.006*\"way\"')]"
      ]
     },
     "execution_count": 13,
     "metadata": {},
     "output_type": "execute_result"
    }
   ],
   "source": [
    "def lda_topics():\n",
    "    \n",
    "    # Your Code Here\n",
    "    topics = ldamodel.print_topics()\n",
    "    \n",
    "    #print(topics)\n",
    "    \n",
    "    return topics # Your Answer Here\n",
    "\n",
    "#lda_topics()"
   ]
  },
  {
   "cell_type": "markdown",
   "metadata": {},
   "source": [
    "### topic_distribution\n",
    "\n",
    "For the new document `new_doc`, find the topic distribution. Remember to use vect.transform on the the new doc, and Sparse2Corpus to convert the sparse matrix to gensim corpus.\n",
    "\n",
    "*This function should return a list of tuples, where each tuple is `(#topic, probability)`*"
   ]
  },
  {
   "cell_type": "code",
   "execution_count": 14,
   "metadata": {},
   "outputs": [],
   "source": [
    "new_doc = [\"\\n\\nIt's my understanding that the freezing will start to occur because \\\n",
    "of the\\ngrowing distance of Pluto and Charon from the Sun, due to it's\\nelliptical orbit. \\\n",
    "It is not due to shadowing effects. \\n\\n\\nPluto can shadow Charon, and vice-versa.\\n\\nGeorge \\\n",
    "Krumins\\n-- \"]"
   ]
  },
  {
   "cell_type": "code",
   "execution_count": 15,
   "metadata": {},
   "outputs": [
    {
     "data": {
      "text/plain": [
       "[(0, 0.020005247),\n",
       " (1, 0.020007323),\n",
       " (2, 0.02000524),\n",
       " (3, 0.42149138),\n",
       " (4, 0.020005368),\n",
       " (5, 0.02000394),\n",
       " (6, 0.020006297),\n",
       " (7, 0.020006398),\n",
       " (8, 0.020008672),\n",
       " (9, 0.41846013)]"
      ]
     },
     "execution_count": 15,
     "metadata": {},
     "output_type": "execute_result"
    }
   ],
   "source": [
    "def topic_distribution():\n",
    "    \n",
    "    # Your Code Here\n",
    "    new_doc_vect = vect.transform(new_doc)\n",
    "    new_doc_corpus = gensim.matutils.Sparse2Corpus(new_doc_vect, documents_columns=False)\n",
    "    \n",
    "    topics = ldamodel.get_document_topics(new_doc_corpus, minimum_probability=0.01)\n",
    "    retval = list(topics)[0]\n",
    "    \n",
    "    return retval # Your Answer Here\n",
    "\n",
    "#topic_distribution()"
   ]
  },
  {
   "cell_type": "markdown",
   "metadata": {},
   "source": [
    "### topic_names\n",
    "\n",
    "From the list of the following given topics, assign topic names to the topics you found. If none of these names best matches the topics you found, create a new 1-3 word \"title\" for the topic.\n",
    "\n",
    "Topics: Health, Science, Automobiles, Politics, Government, Travel, Computers & IT, Sports, Business, Society & Lifestyle, Religion, Education.\n",
    "\n",
    "*This function should return a list of 10 strings.*"
   ]
  },
  {
   "cell_type": "code",
   "execution_count": 17,
   "metadata": {},
   "outputs": [],
   "source": [
    "def topic_names():\n",
    "    \n",
    "    # Your Code Here\n",
    "    lst = list(['Education',\n",
    "          'Automobiles',\n",
    "          'Computers & IT',\n",
    "          'Sports',\n",
    "          'Society & Lifestyle',\n",
    "          'Sports',\n",
    "          'Automobiles',\n",
    "          'Education',\n",
    "          'Computers & IT',\n",
    "          'Science'])\n",
    "    \n",
    "    return lst # Your Answer Here"
   ]
  },
  {
   "cell_type": "code",
   "execution_count": null,
   "metadata": {},
   "outputs": [],
   "source": []
  }
 ],
 "metadata": {
  "coursera": {
   "course_slug": "python-text-mining",
   "graded_item_id": "2qbcK",
   "launcher_item_id": "pi9Sh",
   "part_id": "kQiwX"
  },
  "kernelspec": {
   "display_name": "Python 3",
   "language": "python",
   "name": "python3"
  },
  "language_info": {
   "codemirror_mode": {
    "name": "ipython",
    "version": 3
   },
   "file_extension": ".py",
   "mimetype": "text/x-python",
   "name": "python",
   "nbconvert_exporter": "python",
   "pygments_lexer": "ipython3",
   "version": "3.7.2"
  }
 },
 "nbformat": 4,
 "nbformat_minor": 2
}
